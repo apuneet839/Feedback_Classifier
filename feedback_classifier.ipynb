{
 "metadata": {
  "language_info": {
   "codemirror_mode": {
    "name": "ipython",
    "version": 3
   },
   "file_extension": ".py",
   "mimetype": "text/x-python",
   "name": "python",
   "nbconvert_exporter": "python",
   "pygments_lexer": "ipython3",
   "version": "3.8.3-final"
  },
  "orig_nbformat": 2,
  "kernelspec": {
   "name": "python3",
   "display_name": "Python 3",
   "language": "python"
  }
 },
 "nbformat": 4,
 "nbformat_minor": 2,
 "cells": [
  {
   "cell_type": "code",
   "execution_count": 4,
   "metadata": {},
   "outputs": [],
   "source": [
    "import random\n",
    "\n",
    "class Sentiment:\n",
    "    NEGATIVE = \"NEGATIVE\"\n",
    "    NEUTRAL = \"NEUTRAL\"\n",
    "    POSITIVE = \"POSITIVE\"\n",
    "\n",
    "class Review:\n",
    "    def __init__(self, text, score):\n",
    "        self.text = text\n",
    "        self.score = score\n",
    "        self.sentiment = self.get_sentiment()\n",
    "\n",
    "    def get_sentiment(self):\n",
    "        if self.score <= 2:\n",
    "            return Sentiment.NEGATIVE\n",
    "        elif self.score == 3:\n",
    "            return Sentiment.NEUTRAL\n",
    "        else:\n",
    "            return Sentiment.POSITIVE\n",
    "\n",
    "class ReviewContainer:\n",
    "    def __init__(self, reviews):\n",
    "        self.reviews = reviews\n",
    "\n",
    "    def get_text(self):\n",
    "        return[x.text for x in self.reviews]\n",
    "\n",
    "    def get_sentiment(self):\n",
    "        return [x.sentiment for x in self.reviews]\n",
    "\n",
    "    def evenly_distribute(self):\n",
    "        negative = list(filter(lambda x: x.sentiment == Sentiment.NEGATIVE, self.reviews))\n",
    "        positive = list(filter(lambda x: x.sentiment == Sentiment.POSITIVE, self.reviews))\n",
    "        positive_shrunk = positive[:len(negative)]\n",
    "        \n",
    "        self.reviews = negative + positive_shrunk\n",
    "\n",
    "        random.shuffle(self.reviews)\n"
   ]
  },
  {
   "cell_type": "code",
   "execution_count": 6,
   "metadata": {},
   "outputs": [],
   "source": [
    "import json\n",
    "\n",
    "file_name = \"Books_small_10000.json\"\n",
    "\n",
    "reviews = []\n",
    "\n",
    "with open(file_name) as f:\n",
    "    for line in f:\n",
    "        review = json.loads(line)\n",
    "        reviews.append(Review(review[\"reviewText\"],review[\"overall\"]))"
   ]
  },
  {
   "cell_type": "code",
   "execution_count": 8,
   "metadata": {},
   "outputs": [],
   "source": [
    "from sklearn.model_selection import train_test_split\n",
    "\n",
    "train_data, test_data = train_test_split(reviews, test_size = 0.33, random_state = 42)\n",
    "\n",
    "train_container = ReviewContainer(train_data)\n",
    "\n",
    "test_container = ReviewContainer(test_data)"
   ]
  },
  {
   "cell_type": "code",
   "execution_count": 10,
   "metadata": {},
   "outputs": [],
   "source": [
    "train_container.evenly_distribute()\n",
    "train_x = train_container.get_text()\n",
    "train_y = train_container.get_sentiment()\n",
    "\n",
    "test_container.evenly_distribute()\n",
    "test_x = test_container.get_text()\n",
    "test_y = test_container.get_sentiment()"
   ]
  },
  {
   "source": [
    "# Bag of Words Vectorization"
   ],
   "cell_type": "markdown",
   "metadata": {}
  },
  {
   "cell_type": "code",
   "execution_count": 12,
   "metadata": {},
   "outputs": [],
   "source": [
    "from sklearn.feature_extraction.text import CountVectorizer, TfidfVectorizer\n",
    "\n",
    "vectorizer = TfidfVectorizer()\n",
    "\n",
    "train_x_vectors = vectorizer.fit_transform(train_x)\n",
    "\n",
    "test_x_vectors = vectorizer.transform(test_x)"
   ]
  },
  {
   "source": [
    "# LINEAR SVM"
   ],
   "cell_type": "markdown",
   "metadata": {}
  },
  {
   "cell_type": "code",
   "execution_count": 14,
   "metadata": {},
   "outputs": [],
   "source": [
    "from sklearn import svm\n",
    "\n",
    "clf_svm = svm.SVC(kernel=\"linear\", probability=True)\n",
    "\n",
    "clf_svm.fit(train_x_vectors,train_y)\n",
    "\n",
    "clf_svm.predict(test_x_vectors[0])\n",
    "\n",
    "prob = clf_svm.predict_proba(test_x_vectors[0])"
   ]
  },
  {
   "source": [
    "# Decision Trees"
   ],
   "cell_type": "markdown",
   "metadata": {}
  },
  {
   "cell_type": "code",
   "execution_count": 16,
   "metadata": {},
   "outputs": [
    {
     "output_type": "execute_result",
     "data": {
      "text/plain": [
       "array(['NEGATIVE'], dtype='<U8')"
      ]
     },
     "metadata": {},
     "execution_count": 16
    }
   ],
   "source": [
    "from sklearn.tree import DecisionTreeClassifier\n",
    "\n",
    "clf_dec = DecisionTreeClassifier()\n",
    "\n",
    "clf_dec.fit(train_x_vectors, train_y)\n",
    "\n",
    "clf_dec.predict(test_x_vectors[0])"
   ]
  },
  {
   "source": [
    "# NAIVE BAYES"
   ],
   "cell_type": "markdown",
   "metadata": {}
  },
  {
   "cell_type": "code",
   "execution_count": 18,
   "metadata": {},
   "outputs": [
    {
     "output_type": "execute_result",
     "data": {
      "text/plain": [
       "array(['POSITIVE'], dtype='<U8')"
      ]
     },
     "metadata": {},
     "execution_count": 18
    }
   ],
   "source": [
    "from sklearn.naive_bayes import GaussianNB\n",
    "\n",
    "clf_gnb = GaussianNB()\n",
    "\n",
    "clf_gnb.fit(train_x_vectors.toarray(),train_y)\n",
    "\n",
    "clf_gnb.predict(test_x_vectors[0].toarray())"
   ]
  },
  {
   "source": [
    "# LOGISTIC REGRESSION"
   ],
   "cell_type": "markdown",
   "metadata": {}
  },
  {
   "cell_type": "code",
   "execution_count": 20,
   "metadata": {},
   "outputs": [
    {
     "output_type": "execute_result",
     "data": {
      "text/plain": [
       "array(['NEGATIVE'], dtype='<U8')"
      ]
     },
     "metadata": {},
     "execution_count": 20
    }
   ],
   "source": [
    "from sklearn.linear_model import LogisticRegression\n",
    "\n",
    "clf_log = LogisticRegression()\n",
    "\n",
    "clf_log.fit(train_x_vectors, train_y)\n",
    "\n",
    "clf_log.predict(test_x_vectors[0])"
   ]
  },
  {
   "source": [
    "# Evaluation"
   ],
   "cell_type": "markdown",
   "metadata": {}
  },
  {
   "cell_type": "code",
   "execution_count": 22,
   "metadata": {},
   "outputs": [
    {
     "output_type": "stream",
     "name": "stdout",
     "text": [
      "SVM SCORE:  0.8076923076923077\nDECISION TREE SCORE:  0.6730769230769231\nNAIVE BAYES SCORE:  0.6610576923076923\nLOGISTIC REGRESSION SCORE:  0.8052884615384616\n"
     ]
    }
   ],
   "source": [
    "svm_score = clf_svm.score(test_x_vectors, test_y)\n",
    "\n",
    "dec_score = clf_dec.score(test_x_vectors, test_y)\n",
    "\n",
    "gnb_score = clf_gnb.score(test_x_vectors.toarray(), test_y)\n",
    "\n",
    "log_score = clf_log.score(test_x_vectors, test_y)\n",
    "\n",
    "print(\"SVM SCORE: \", svm_score)\n",
    "print(\"DECISION TREE SCORE: \", dec_score)\n",
    "print(\"NAIVE BAYES SCORE: \", gnb_score)\n",
    "print(\"LOGISTIC REGRESSION SCORE: \", log_score)"
   ]
  },
  {
   "source": [
    "# F1 Score"
   ],
   "cell_type": "markdown",
   "metadata": {}
  },
  {
   "cell_type": "code",
   "execution_count": 24,
   "metadata": {},
   "outputs": [
    {
     "output_type": "execute_result",
     "data": {
      "text/plain": [
       "array([0.80582524, 0.80952381])"
      ]
     },
     "metadata": {},
     "execution_count": 24
    }
   ],
   "source": [
    "from sklearn.metrics import f1_score\n",
    "\n",
    "f1_score(test_y, clf_svm.predict(test_x_vectors), average=None, labels=[Sentiment.POSITIVE,Sentiment.NEGATIVE])\n"
   ]
  },
  {
   "cell_type": "code",
   "execution_count": 26,
   "metadata": {},
   "outputs": [],
   "source": [
    "def model_run(feedback):\n",
    "\n",
    "    test_set = [feedback]\n",
    "\n",
    "    new_test = vectorizer.transform(test_set)\n",
    "\n",
    "    return [clf_svm.predict(new_test)[0], clf_svm.predict_proba(new_test)]\n"
   ]
  },
  {
   "source": [
    "# GUI"
   ],
   "cell_type": "markdown",
   "metadata": {}
  },
  {
   "cell_type": "code",
   "execution_count": 27,
   "metadata": {},
   "outputs": [],
   "source": [
    "import tkinter as tk\n",
    "from tkinter import font\n",
    "from PIL import Image, ImageTk"
   ]
  },
  {
   "cell_type": "code",
   "execution_count": 60,
   "metadata": {},
   "outputs": [],
   "source": [
    "screen = tk.Tk()\n",
    "\n",
    "screen.title(\"Feedback Classifier\")\n",
    "\n",
    "\n",
    "HEIGHT = 600\n",
    "WIDTH = 700\n",
    "\n",
    "def get_review(feedback):\n",
    "    label[\"text\"] = format_response(feedback)\n",
    "\n",
    "\n",
    "def format_response(feedback):\n",
    "    prediction, prob = model_run(feedback)[0], model_run(feedback)[1]\n",
    "    if prediction==\"POSITIVE\":\n",
    "        probablity = prob[0][1]\n",
    "    else:\n",
    "        probablity = prob[0][0]\n",
    "    output = \"Feedback is {0}.\\n\\n\\n\\n\\nThe probablity of the feedback being {0}:\\n {1}%\\n\\n\\n\\n\\n\\n\\n\\nOur algorithm has an accuracy of 80.77%\\nSome predictions might be inaccurate.\".format(prediction, round((probablity*100), 2))\n",
    "    return output\n",
    "\n",
    "\n",
    "def on_entry_click(event):\n",
    "    if entry.get() == \"Enter a user review...\":\n",
    "       entry.delete(0, \"end\")\n",
    "       entry.insert(0, \"\")\n",
    "\n",
    "\n",
    "def on_focusout(event):\n",
    "    if entry.get() == \"\":\n",
    "        entry.insert(0, \"Enter a user review...\")\n",
    "\n",
    "\n",
    "canvas = tk.Canvas(screen, height=HEIGHT, width=WIDTH)\n",
    "canvas.pack()\n",
    "\n",
    "\n",
    "bg_img = tk.PhotoImage(file=\"Feedback_BG.png\")\n",
    "bg_label = tk.Label(screen, image=bg_img)\n",
    "bg_label.place(relwidth=1, relheight=1)\n",
    "\n",
    "\n",
    "icon_img = tk.PhotoImage(file=\"feedback_icon.png\")\n",
    "screen.iconphoto(False, icon_img)\n",
    "\n",
    "\n",
    "\n",
    "frame = tk.Frame(screen, bg=\"#fca503\", bd=5)\n",
    "frame.place(relx= 0.5, rely=0.1, relwidth=0.75, relheight=0.1, anchor=\"n\")\n",
    "\n",
    "\n",
    "entry = tk.Entry(frame, font=(\"Courier\", 12))\n",
    "entry.insert(0, 'Enter a user review...')\n",
    "entry.bind('<FocusIn>', on_entry_click)\n",
    "entry.bind('<FocusOut>', on_focusout)\n",
    "entry.place(relwidth=0.65, relheight=1)\n",
    "\n",
    "\n",
    "button = tk.Button(frame, text=\"Classify\", font=(\"Courier\", 12), command=lambda: get_review(entry.get()))\n",
    "button.place(relx=0.7, relheight=1, relwidth=0.3)\n",
    "\n",
    "\n",
    "frame2 = tk.Frame(screen, bg=\"#fca503\", bd=10)\n",
    "frame2.place(relx=0.5, rely=0.25, relwidth=0.75, relheight=0.6, anchor=\"n\")\n",
    "\n",
    "\n",
    "label = tk.Label(frame2, font=(\"Courier\", 14), anchor=\"nw\", justify=\"left\", bd=4)\n",
    "label.place(relwidth=1, relheight=1)\n",
    "\n",
    "\n",
    "screen.mainloop()"
   ]
  }
 ]
}